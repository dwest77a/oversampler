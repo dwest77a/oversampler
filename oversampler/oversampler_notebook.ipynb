{
 "cells": [
  {
   "cell_type": "markdown",
   "id": "b464af25-4fb8-424c-b715-6a0853f6989e",
   "metadata": {},
   "source": [
    "# Running the Oversampler main script on filtered files\n",
    "Note: File filtering is recommended but not essential for the oversampler method. Filtering removes unwanted pixels from the oversampling method."
   ]
  },
  {
   "cell_type": "code",
   "execution_count": 3,
   "id": "98bab376-c918-4b14-8c57-ecac76dcf892",
   "metadata": {},
   "outputs": [
    {
     "name": "stdout",
     "output_type": "stream",
     "text": [
      "Creating Grids\n",
      "Grids Created\n",
      "/gws/pw/j05/rsg_share/public/transfer/barry/6ad76b04-b3df-11eb-a4d3-024ad8e814ad/iasi_l2/oversampled_l2/v00.00/1999/01/iasi_os_reference_l2_199901daynight_v00.00_ref.nc\n",
      "SDError: Standard Dev. Filter failed - Reference file not found\n",
      "Main\n",
      "Daily\n"
     ]
    },
    {
     "ename": "FileNotFoundError",
     "evalue": "[Errno 2] No such file or directory: b'/gws/pw/j05/rsg_share/public/transfer/barry/6ad76b04-b3df-11eb-a4d3-024ad8e814ad/iasi_l2/valid_l2a/v00.00/1999/01/iasi_valid_l2a_19990100_v00.00.nc'",
     "output_type": "error",
     "traceback": [
      "\u001b[0;31m---------------------------------------------------------------------------\u001b[0m",
      "\u001b[0;31mFileNotFoundError\u001b[0m                         Traceback (most recent call last)",
      "Cell \u001b[0;32mIn[3], line 20\u001b[0m\n\u001b[1;32m     16\u001b[0m units \u001b[38;5;241m=\u001b[39m [\u001b[38;5;124m'\u001b[39m\u001b[38;5;124mppbv\u001b[39m\u001b[38;5;124m'\u001b[39m,\u001b[38;5;124m'\u001b[39m\u001b[38;5;124mppbv\u001b[39m\u001b[38;5;124m'\u001b[39m,\u001b[38;5;124m'\u001b[39m\u001b[38;5;124mmm\u001b[39m\u001b[38;5;124m'\u001b[39m,\u001b[38;5;124m'\u001b[39m\u001b[38;5;124mmm\u001b[39m\u001b[38;5;124m'\u001b[39m]\n\u001b[1;32m     18\u001b[0m \u001b[38;5;66;03m## Default oversampling parameters above\u001b[39;00m\n\u001b[0;32m---> 20\u001b[0m l3f \u001b[38;5;241m=\u001b[39m \u001b[43mostool\u001b[49m\u001b[38;5;241;43m.\u001b[39;49m\u001b[43ml3_file\u001b[49m\u001b[43m(\u001b[49m\u001b[43mdate\u001b[49m\u001b[43m,\u001b[49m\u001b[43m \u001b[49m\u001b[43minstrt\u001b[49m\u001b[43m,\u001b[49m\u001b[43m \u001b[49m\u001b[43mversion\u001b[49m\u001b[43m,\u001b[49m\u001b[43m \u001b[49m\u001b[43msubversion\u001b[49m\u001b[43m,\u001b[49m\u001b[43m \u001b[49m\u001b[43mtime\u001b[49m\u001b[43m,\u001b[49m\u001b[43m \u001b[49m\u001b[43mvariables\u001b[49m\u001b[43m,\u001b[49m\u001b[43m \u001b[49m\u001b[43mlongs\u001b[49m\u001b[43m,\u001b[49m\u001b[43m \u001b[49m\u001b[43munits\u001b[49m\u001b[43m)\u001b[49m\n",
      "File \u001b[0;32m~/Documents/rsgdev_jasmin/oversampler/oversampler/ostool.py:122\u001b[0m, in \u001b[0;36ml3_file.__init__\u001b[0;34m(self, date, instrt, version, subversion, time, variables, longs, units)\u001b[0m\n\u001b[1;32m    119\u001b[0m \u001b[38;5;28mself\u001b[39m\u001b[38;5;241m.\u001b[39minpath \u001b[38;5;241m=\u001b[39m BASE_INPUT\u001b[38;5;241m.\u001b[39mformat(instrt_full, \u001b[38;5;28mself\u001b[39m\u001b[38;5;241m.\u001b[39mversion, \u001b[38;5;28mself\u001b[39m\u001b[38;5;241m.\u001b[39mdate[\u001b[38;5;241m0\u001b[39m],\u001b[38;5;28mself\u001b[39m\u001b[38;5;241m.\u001b[39mdate[\u001b[38;5;241m1\u001b[39m])\n\u001b[1;32m    120\u001b[0m \u001b[38;5;28mself\u001b[39m\u001b[38;5;241m.\u001b[39moutpath \u001b[38;5;241m=\u001b[39m BASE_OUTPUT\u001b[38;5;241m.\u001b[39mformat(instrt_full, \u001b[38;5;28mself\u001b[39m\u001b[38;5;241m.\u001b[39mversion, \u001b[38;5;28mself\u001b[39m\u001b[38;5;241m.\u001b[39mdate[\u001b[38;5;241m0\u001b[39m], \u001b[38;5;28mself\u001b[39m\u001b[38;5;241m.\u001b[39mdate[\u001b[38;5;241m1\u001b[39m])\n\u001b[0;32m--> 122\u001b[0m \u001b[38;5;28;43mself\u001b[39;49m\u001b[38;5;241;43m.\u001b[39;49m\u001b[43mmain\u001b[49m\u001b[43m(\u001b[49m\u001b[43m)\u001b[49m\n",
      "File \u001b[0;32m~/Documents/rsgdev_jasmin/oversampler/oversampler/ostool.py:452\u001b[0m, in \u001b[0;36ml3_file.main\u001b[0;34m(self)\u001b[0m\n\u001b[1;32m    449\u001b[0m \u001b[38;5;28;01mif\u001b[39;00m \u001b[38;5;28mself\u001b[39m\u001b[38;5;241m.\u001b[39mtimeformat \u001b[38;5;241m==\u001b[39m \u001b[38;5;124m'\u001b[39m\u001b[38;5;124mDaily\u001b[39m\u001b[38;5;124m'\u001b[39m:\n\u001b[1;32m    450\u001b[0m \t\u001b[38;5;66;03m# Do single file\u001b[39;00m\n\u001b[1;32m    451\u001b[0m \tfilein \u001b[38;5;241m=\u001b[39m \u001b[38;5;28mself\u001b[39m\u001b[38;5;241m.\u001b[39minpath \u001b[38;5;241m+\u001b[39m \u001b[38;5;124m'\u001b[39m\u001b[38;5;124m/\u001b[39m\u001b[38;5;132;01m{}\u001b[39;00m\u001b[38;5;124m_valid_l2a_\u001b[39m\u001b[38;5;132;01m{}\u001b[39;00m\u001b[38;5;132;01m{}\u001b[39;00m\u001b[38;5;132;01m{}\u001b[39;00m\u001b[38;5;124m_\u001b[39m\u001b[38;5;132;01m{}\u001b[39;00m\u001b[38;5;124m.nc\u001b[39m\u001b[38;5;124m'\u001b[39m\u001b[38;5;241m.\u001b[39mformat(\u001b[38;5;28mself\u001b[39m\u001b[38;5;241m.\u001b[39minstrt\u001b[38;5;241m.\u001b[39mlower(), \u001b[38;5;28mself\u001b[39m\u001b[38;5;241m.\u001b[39mdate[\u001b[38;5;241m0\u001b[39m], \u001b[38;5;28mself\u001b[39m\u001b[38;5;241m.\u001b[39mdate[\u001b[38;5;241m1\u001b[39m], \u001b[38;5;28mself\u001b[39m\u001b[38;5;241m.\u001b[39mdate[\u001b[38;5;241m2\u001b[39m], \u001b[38;5;28mself\u001b[39m\u001b[38;5;241m.\u001b[39mversion)\n\u001b[0;32m--> 452\u001b[0m \t\u001b[38;5;28;43mself\u001b[39;49m\u001b[38;5;241;43m.\u001b[39;49m\u001b[43madd_frames_to_oversample\u001b[49m\u001b[43m(\u001b[49m\u001b[43mfilein\u001b[49m\u001b[43m)\u001b[49m\n\u001b[1;32m    453\u001b[0m \t\u001b[38;5;28mself\u001b[39m\u001b[38;5;241m.\u001b[39msave_to_nc()\n\u001b[1;32m    454\u001b[0m \u001b[38;5;28;01melif\u001b[39;00m \u001b[38;5;28mself\u001b[39m\u001b[38;5;241m.\u001b[39mtimeformat \u001b[38;5;241m==\u001b[39m \u001b[38;5;124m'\u001b[39m\u001b[38;5;124mMonthly\u001b[39m\u001b[38;5;124m'\u001b[39m:\n",
      "File \u001b[0;32m~/Documents/rsgdev_jasmin/oversampler/oversampler/ostool.py:297\u001b[0m, in \u001b[0;36ml3_file.add_frames_to_oversample\u001b[0;34m(self, os_file)\u001b[0m\n\u001b[1;32m    291\u001b[0m \u001b[38;5;28;01mdef\u001b[39;00m \u001b[38;5;21madd_frames_to_oversample\u001b[39m(\u001b[38;5;28mself\u001b[39m,os_file):\n\u001b[1;32m    292\u001b[0m     \u001b[38;5;66;03m# Takes single frame basedata\u001b[39;00m\n\u001b[1;32m    293\u001b[0m     \u001b[38;5;66;03m# Iterate through frame for each pixel\u001b[39;00m\n\u001b[1;32m    294\u001b[0m     \u001b[38;5;66;03m# Pass pixel to oversample pixel\u001b[39;00m\n\u001b[1;32m    295\u001b[0m     \u001b[38;5;66;03m# Receive gridded data\u001b[39;00m\n\u001b[0;32m--> 297\u001b[0m \tos_ncf \u001b[38;5;241m=\u001b[39m \u001b[43mDataset\u001b[49m\u001b[43m(\u001b[49m\u001b[43mos_file\u001b[49m\u001b[43m,\u001b[49m\u001b[38;5;124;43m'\u001b[39;49m\u001b[38;5;124;43mr\u001b[39;49m\u001b[38;5;124;43m'\u001b[39;49m\u001b[43m,\u001b[49m\u001b[38;5;28;43mformat\u001b[39;49m\u001b[38;5;241;43m=\u001b[39;49m\u001b[38;5;124;43m\"\u001b[39;49m\u001b[38;5;124;43mNETCDF4\u001b[39;49m\u001b[38;5;124;43m\"\u001b[39;49m\u001b[43m)\u001b[49m\n\u001b[1;32m    299\u001b[0m \t\u001b[38;5;66;03m# Extract necessary variables from base-filtered files\u001b[39;00m\n\u001b[1;32m    301\u001b[0m \tlat       \u001b[38;5;241m=\u001b[39m np\u001b[38;5;241m.\u001b[39marray(os_ncf[\u001b[38;5;124m'\u001b[39m\u001b[38;5;124mlat\u001b[39m\u001b[38;5;124m'\u001b[39m])\n",
      "File \u001b[0;32msrc/netCDF4/_netCDF4.pyx:2463\u001b[0m, in \u001b[0;36mnetCDF4._netCDF4.Dataset.__init__\u001b[0;34m()\u001b[0m\n",
      "File \u001b[0;32msrc/netCDF4/_netCDF4.pyx:2026\u001b[0m, in \u001b[0;36mnetCDF4._netCDF4._ensure_nc_success\u001b[0;34m()\u001b[0m\n",
      "\u001b[0;31mFileNotFoundError\u001b[0m: [Errno 2] No such file or directory: b'/gws/pw/j05/rsg_share/public/transfer/barry/6ad76b04-b3df-11eb-a4d3-024ad8e814ad/iasi_l2/valid_l2a/v00.00/1999/01/iasi_valid_l2a_19990100_v00.00.nc'"
     ]
    }
   ],
   "source": [
    "import ostool\n",
    "# Define Parameters\n",
    "\n",
    "# Ostool expects input files with a name like:\n",
    "# iasi_valid_l2a_19990101_v00.00.nc\n",
    "date   = '19990101'\n",
    "instrt = 'iasi'\n",
    "version = 'v00.00'\n",
    "subversion = 'sv01' # Used for labelling oversampling output files\n",
    "time = 'Daily' # Perform oversampling on a single daily filtered file, or use 'Monthly' to oversample to monthly files\n",
    "variables = ['nh3','nh3tpwvza','tpw','tpwb']\n",
    "longs = ['Oversampled Ammonia',\n",
    "\t\t\t\t'Oversampled Adjusted Ammonia',\n",
    "\t\t\t\t'Oversampled TPWVZA',\n",
    "\t\t\t\t'Oversampled TPW']\n",
    "units = ['ppbv','ppbv','mm','mm']\n",
    "\n",
    "## Default oversampling parameters above\n",
    "\n",
    "l3f = ostool.l3_file(date, instrt, version, subversion, time, variables, longs, units)"
   ]
  },
  {
   "cell_type": "code",
   "execution_count": null,
   "id": "c0512b2d-3dd9-427a-9ad2-c27c6421a676",
   "metadata": {},
   "outputs": [],
   "source": []
  }
 ],
 "metadata": {
  "kernelspec": {
   "display_name": "osam_venv",
   "language": "python",
   "name": "osam_venv"
  },
  "language_info": {
   "codemirror_mode": {
    "name": "ipython",
    "version": 3
   },
   "file_extension": ".py",
   "mimetype": "text/x-python",
   "name": "python",
   "nbconvert_exporter": "python",
   "pygments_lexer": "ipython3",
   "version": "3.10.5"
  }
 },
 "nbformat": 4,
 "nbformat_minor": 5
}
