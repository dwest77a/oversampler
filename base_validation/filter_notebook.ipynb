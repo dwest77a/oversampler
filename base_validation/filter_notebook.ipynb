{
 "cells": [
  {
   "cell_type": "markdown",
   "id": "b5cd6d3c-a784-4e87-8f9e-d65a982fbb65",
   "metadata": {},
   "source": [
    "# Running the Oversampler Base Filter on L2 Files\n",
    "Firstly ensure the paths are updated in the files_config.json document - files may have shifted since last use on JASMIN. (Use the write_to_json.py script in utils to write to json files with dict content in python)\n",
    "Then import the basefilter functions here."
   ]
  },
  {
   "cell_type": "code",
   "execution_count": 1,
   "id": "4a074d7e-7f7e-493b-ba54-54647496f3fb",
   "metadata": {},
   "outputs": [
    {
     "name": "stdout",
     "output_type": "stream",
     "text": [
      "No files for specified date for either case - 19990101\n"
     ]
    }
   ],
   "source": [
    "import l2basefilter as l2b\n",
    "date = '19990101'\n",
    "version = 'v00.00'\n",
    "instrt = 'cris'\n",
    "err = l2b.main(date, version, instrt)"
   ]
  }
 ],
 "metadata": {
  "kernelspec": {
   "display_name": "osam_venv",
   "language": "python",
   "name": "osam_venv"
  },
  "language_info": {
   "codemirror_mode": {
    "name": "ipython",
    "version": 3
   },
   "file_extension": ".py",
   "mimetype": "text/x-python",
   "name": "python",
   "nbconvert_exporter": "python",
   "pygments_lexer": "ipython3",
   "version": "3.10.5"
  }
 },
 "nbformat": 4,
 "nbformat_minor": 5
}
